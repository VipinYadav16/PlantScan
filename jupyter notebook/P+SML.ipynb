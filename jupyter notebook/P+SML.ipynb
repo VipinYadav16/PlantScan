{
 "cells": [
  {
   "cell_type": "code",
   "execution_count": 2,
   "id": "90d99428-8560-41f0-b6d2-8b9a6db580c6",
   "metadata": {},
   "outputs": [],
   "source": [
    "# Import required libraries\n",
    "import os\n",
    "import numpy as np\n",
    "import matplotlib.pyplot as plt\n",
    "import warnings\n",
    "\n",
    "from tensorflow.keras.models import Sequential\n",
    "from tensorflow.keras.layers import Input, Conv2D, MaxPooling2D, Flatten, Dense, Dropout\n",
    "from tensorflow.keras.optimizers import Adam\n",
    "from tensorflow.keras.preprocessing.image import ImageDataGenerator\n",
    "from tensorflow.keras.utils import plot_model\n",
    "from tensorflow.keras.preprocessing import image\n",
    "\n",
    "# Suppress warnings for cleaner output\n",
    "warnings.filterwarnings(\"ignore\", category=UserWarning, module=\"keras\")\n"
   ]
  },
  {
   "cell_type": "code",
   "execution_count": 3,
   "id": "43b91d67-5e4f-4d0f-8a79-72b940fa0a3c",
   "metadata": {},
   "outputs": [
    {
     "name": "stdout",
     "output_type": "stream",
     "text": [
      "Found 18110 images belonging to 38 classes.\n",
      "Found 4510 images belonging to 38 classes.\n"
     ]
    }
   ],
   "source": [
    "# Specify dataset path\n",
    "dataset_path = \"E:/SML Project/plantvillagedataset/color\"  # Update with the correct path\n",
    "\n",
    "# Define ImageDataGenerator for preprocessing and augmentation\n",
    "datagen = ImageDataGenerator(\n",
    "    rescale=1./255,            # Normalize pixel values\n",
    "    validation_split=0.2,      # Split dataset: 80% train, 20% validation\n",
    "    rotation_range=30,         # Random rotations\n",
    "    zoom_range=0.2,            # Random zoom\n",
    "    horizontal_flip=True       # Random horizontal flips\n",
    ")\n",
    "\n",
    "# Prepare training data generator\n",
    "train_generator = datagen.flow_from_directory(\n",
    "    dataset_path,\n",
    "    target_size=(150, 150),  # Resize images\n",
    "    batch_size=32,\n",
    "    class_mode='categorical',  # Multi-class classification\n",
    "    subset='training',\n",
    "    shuffle=True\n",
    ")\n",
    "\n",
    "# Prepare validation data generator\n",
    "validation_generator = datagen.flow_from_directory(\n",
    "    dataset_path,\n",
    "    target_size=(150, 150),  # Resize images\n",
    "    batch_size=32,\n",
    "    class_mode='categorical',\n",
    "    subset='validation',\n",
    "    shuffle=True\n",
    ")\n"
   ]
  },
  {
   "cell_type": "code",
   "execution_count": 4,
   "id": "70552d37-b9fb-4a44-9f83-b0835331d316",
   "metadata": {},
   "outputs": [
    {
     "data": {
      "text/html": [
       "<pre style=\"white-space:pre;overflow-x:auto;line-height:normal;font-family:Menlo,'DejaVu Sans Mono',consolas,'Courier New',monospace\"><span style=\"font-weight: bold\">Model: \"sequential\"</span>\n",
       "</pre>\n"
      ],
      "text/plain": [
       "\u001b[1mModel: \"sequential\"\u001b[0m\n"
      ]
     },
     "metadata": {},
     "output_type": "display_data"
    },
    {
     "data": {
      "text/html": [
       "<pre style=\"white-space:pre;overflow-x:auto;line-height:normal;font-family:Menlo,'DejaVu Sans Mono',consolas,'Courier New',monospace\">┏━━━━━━━━━━━━━━━━━━━━━━━━━━━━━━━━━━━━━━┳━━━━━━━━━━━━━━━━━━━━━━━━━━━━━┳━━━━━━━━━━━━━━━━━┓\n",
       "┃<span style=\"font-weight: bold\"> Layer (type)                         </span>┃<span style=\"font-weight: bold\"> Output Shape                </span>┃<span style=\"font-weight: bold\">         Param # </span>┃\n",
       "┡━━━━━━━━━━━━━━━━━━━━━━━━━━━━━━━━━━━━━━╇━━━━━━━━━━━━━━━━━━━━━━━━━━━━━╇━━━━━━━━━━━━━━━━━┩\n",
       "│ conv2d (<span style=\"color: #0087ff; text-decoration-color: #0087ff\">Conv2D</span>)                      │ (<span style=\"color: #00d7ff; text-decoration-color: #00d7ff\">None</span>, <span style=\"color: #00af00; text-decoration-color: #00af00\">148</span>, <span style=\"color: #00af00; text-decoration-color: #00af00\">148</span>, <span style=\"color: #00af00; text-decoration-color: #00af00\">32</span>)        │             <span style=\"color: #00af00; text-decoration-color: #00af00\">896</span> │\n",
       "├──────────────────────────────────────┼─────────────────────────────┼─────────────────┤\n",
       "│ max_pooling2d (<span style=\"color: #0087ff; text-decoration-color: #0087ff\">MaxPooling2D</span>)         │ (<span style=\"color: #00d7ff; text-decoration-color: #00d7ff\">None</span>, <span style=\"color: #00af00; text-decoration-color: #00af00\">74</span>, <span style=\"color: #00af00; text-decoration-color: #00af00\">74</span>, <span style=\"color: #00af00; text-decoration-color: #00af00\">32</span>)          │               <span style=\"color: #00af00; text-decoration-color: #00af00\">0</span> │\n",
       "├──────────────────────────────────────┼─────────────────────────────┼─────────────────┤\n",
       "│ conv2d_1 (<span style=\"color: #0087ff; text-decoration-color: #0087ff\">Conv2D</span>)                    │ (<span style=\"color: #00d7ff; text-decoration-color: #00d7ff\">None</span>, <span style=\"color: #00af00; text-decoration-color: #00af00\">72</span>, <span style=\"color: #00af00; text-decoration-color: #00af00\">72</span>, <span style=\"color: #00af00; text-decoration-color: #00af00\">64</span>)          │          <span style=\"color: #00af00; text-decoration-color: #00af00\">18,496</span> │\n",
       "├──────────────────────────────────────┼─────────────────────────────┼─────────────────┤\n",
       "│ max_pooling2d_1 (<span style=\"color: #0087ff; text-decoration-color: #0087ff\">MaxPooling2D</span>)       │ (<span style=\"color: #00d7ff; text-decoration-color: #00d7ff\">None</span>, <span style=\"color: #00af00; text-decoration-color: #00af00\">36</span>, <span style=\"color: #00af00; text-decoration-color: #00af00\">36</span>, <span style=\"color: #00af00; text-decoration-color: #00af00\">64</span>)          │               <span style=\"color: #00af00; text-decoration-color: #00af00\">0</span> │\n",
       "├──────────────────────────────────────┼─────────────────────────────┼─────────────────┤\n",
       "│ conv2d_2 (<span style=\"color: #0087ff; text-decoration-color: #0087ff\">Conv2D</span>)                    │ (<span style=\"color: #00d7ff; text-decoration-color: #00d7ff\">None</span>, <span style=\"color: #00af00; text-decoration-color: #00af00\">34</span>, <span style=\"color: #00af00; text-decoration-color: #00af00\">34</span>, <span style=\"color: #00af00; text-decoration-color: #00af00\">128</span>)         │          <span style=\"color: #00af00; text-decoration-color: #00af00\">73,856</span> │\n",
       "├──────────────────────────────────────┼─────────────────────────────┼─────────────────┤\n",
       "│ max_pooling2d_2 (<span style=\"color: #0087ff; text-decoration-color: #0087ff\">MaxPooling2D</span>)       │ (<span style=\"color: #00d7ff; text-decoration-color: #00d7ff\">None</span>, <span style=\"color: #00af00; text-decoration-color: #00af00\">17</span>, <span style=\"color: #00af00; text-decoration-color: #00af00\">17</span>, <span style=\"color: #00af00; text-decoration-color: #00af00\">128</span>)         │               <span style=\"color: #00af00; text-decoration-color: #00af00\">0</span> │\n",
       "├──────────────────────────────────────┼─────────────────────────────┼─────────────────┤\n",
       "│ flatten (<span style=\"color: #0087ff; text-decoration-color: #0087ff\">Flatten</span>)                    │ (<span style=\"color: #00d7ff; text-decoration-color: #00d7ff\">None</span>, <span style=\"color: #00af00; text-decoration-color: #00af00\">36992</span>)               │               <span style=\"color: #00af00; text-decoration-color: #00af00\">0</span> │\n",
       "├──────────────────────────────────────┼─────────────────────────────┼─────────────────┤\n",
       "│ dense (<span style=\"color: #0087ff; text-decoration-color: #0087ff\">Dense</span>)                        │ (<span style=\"color: #00d7ff; text-decoration-color: #00d7ff\">None</span>, <span style=\"color: #00af00; text-decoration-color: #00af00\">128</span>)                 │       <span style=\"color: #00af00; text-decoration-color: #00af00\">4,735,104</span> │\n",
       "├──────────────────────────────────────┼─────────────────────────────┼─────────────────┤\n",
       "│ dropout (<span style=\"color: #0087ff; text-decoration-color: #0087ff\">Dropout</span>)                    │ (<span style=\"color: #00d7ff; text-decoration-color: #00d7ff\">None</span>, <span style=\"color: #00af00; text-decoration-color: #00af00\">128</span>)                 │               <span style=\"color: #00af00; text-decoration-color: #00af00\">0</span> │\n",
       "├──────────────────────────────────────┼─────────────────────────────┼─────────────────┤\n",
       "│ dense_1 (<span style=\"color: #0087ff; text-decoration-color: #0087ff\">Dense</span>)                      │ (<span style=\"color: #00d7ff; text-decoration-color: #00d7ff\">None</span>, <span style=\"color: #00af00; text-decoration-color: #00af00\">38</span>)                  │           <span style=\"color: #00af00; text-decoration-color: #00af00\">4,902</span> │\n",
       "└──────────────────────────────────────┴─────────────────────────────┴─────────────────┘\n",
       "</pre>\n"
      ],
      "text/plain": [
       "┏━━━━━━━━━━━━━━━━━━━━━━━━━━━━━━━━━━━━━━┳━━━━━━━━━━━━━━━━━━━━━━━━━━━━━┳━━━━━━━━━━━━━━━━━┓\n",
       "┃\u001b[1m \u001b[0m\u001b[1mLayer (type)                        \u001b[0m\u001b[1m \u001b[0m┃\u001b[1m \u001b[0m\u001b[1mOutput Shape               \u001b[0m\u001b[1m \u001b[0m┃\u001b[1m \u001b[0m\u001b[1m        Param #\u001b[0m\u001b[1m \u001b[0m┃\n",
       "┡━━━━━━━━━━━━━━━━━━━━━━━━━━━━━━━━━━━━━━╇━━━━━━━━━━━━━━━━━━━━━━━━━━━━━╇━━━━━━━━━━━━━━━━━┩\n",
       "│ conv2d (\u001b[38;5;33mConv2D\u001b[0m)                      │ (\u001b[38;5;45mNone\u001b[0m, \u001b[38;5;34m148\u001b[0m, \u001b[38;5;34m148\u001b[0m, \u001b[38;5;34m32\u001b[0m)        │             \u001b[38;5;34m896\u001b[0m │\n",
       "├──────────────────────────────────────┼─────────────────────────────┼─────────────────┤\n",
       "│ max_pooling2d (\u001b[38;5;33mMaxPooling2D\u001b[0m)         │ (\u001b[38;5;45mNone\u001b[0m, \u001b[38;5;34m74\u001b[0m, \u001b[38;5;34m74\u001b[0m, \u001b[38;5;34m32\u001b[0m)          │               \u001b[38;5;34m0\u001b[0m │\n",
       "├──────────────────────────────────────┼─────────────────────────────┼─────────────────┤\n",
       "│ conv2d_1 (\u001b[38;5;33mConv2D\u001b[0m)                    │ (\u001b[38;5;45mNone\u001b[0m, \u001b[38;5;34m72\u001b[0m, \u001b[38;5;34m72\u001b[0m, \u001b[38;5;34m64\u001b[0m)          │          \u001b[38;5;34m18,496\u001b[0m │\n",
       "├──────────────────────────────────────┼─────────────────────────────┼─────────────────┤\n",
       "│ max_pooling2d_1 (\u001b[38;5;33mMaxPooling2D\u001b[0m)       │ (\u001b[38;5;45mNone\u001b[0m, \u001b[38;5;34m36\u001b[0m, \u001b[38;5;34m36\u001b[0m, \u001b[38;5;34m64\u001b[0m)          │               \u001b[38;5;34m0\u001b[0m │\n",
       "├──────────────────────────────────────┼─────────────────────────────┼─────────────────┤\n",
       "│ conv2d_2 (\u001b[38;5;33mConv2D\u001b[0m)                    │ (\u001b[38;5;45mNone\u001b[0m, \u001b[38;5;34m34\u001b[0m, \u001b[38;5;34m34\u001b[0m, \u001b[38;5;34m128\u001b[0m)         │          \u001b[38;5;34m73,856\u001b[0m │\n",
       "├──────────────────────────────────────┼─────────────────────────────┼─────────────────┤\n",
       "│ max_pooling2d_2 (\u001b[38;5;33mMaxPooling2D\u001b[0m)       │ (\u001b[38;5;45mNone\u001b[0m, \u001b[38;5;34m17\u001b[0m, \u001b[38;5;34m17\u001b[0m, \u001b[38;5;34m128\u001b[0m)         │               \u001b[38;5;34m0\u001b[0m │\n",
       "├──────────────────────────────────────┼─────────────────────────────┼─────────────────┤\n",
       "│ flatten (\u001b[38;5;33mFlatten\u001b[0m)                    │ (\u001b[38;5;45mNone\u001b[0m, \u001b[38;5;34m36992\u001b[0m)               │               \u001b[38;5;34m0\u001b[0m │\n",
       "├──────────────────────────────────────┼─────────────────────────────┼─────────────────┤\n",
       "│ dense (\u001b[38;5;33mDense\u001b[0m)                        │ (\u001b[38;5;45mNone\u001b[0m, \u001b[38;5;34m128\u001b[0m)                 │       \u001b[38;5;34m4,735,104\u001b[0m │\n",
       "├──────────────────────────────────────┼─────────────────────────────┼─────────────────┤\n",
       "│ dropout (\u001b[38;5;33mDropout\u001b[0m)                    │ (\u001b[38;5;45mNone\u001b[0m, \u001b[38;5;34m128\u001b[0m)                 │               \u001b[38;5;34m0\u001b[0m │\n",
       "├──────────────────────────────────────┼─────────────────────────────┼─────────────────┤\n",
       "│ dense_1 (\u001b[38;5;33mDense\u001b[0m)                      │ (\u001b[38;5;45mNone\u001b[0m, \u001b[38;5;34m38\u001b[0m)                  │           \u001b[38;5;34m4,902\u001b[0m │\n",
       "└──────────────────────────────────────┴─────────────────────────────┴─────────────────┘\n"
      ]
     },
     "metadata": {},
     "output_type": "display_data"
    },
    {
     "data": {
      "text/html": [
       "<pre style=\"white-space:pre;overflow-x:auto;line-height:normal;font-family:Menlo,'DejaVu Sans Mono',consolas,'Courier New',monospace\"><span style=\"font-weight: bold\"> Total params: </span><span style=\"color: #00af00; text-decoration-color: #00af00\">4,833,254</span> (18.44 MB)\n",
       "</pre>\n"
      ],
      "text/plain": [
       "\u001b[1m Total params: \u001b[0m\u001b[38;5;34m4,833,254\u001b[0m (18.44 MB)\n"
      ]
     },
     "metadata": {},
     "output_type": "display_data"
    },
    {
     "data": {
      "text/html": [
       "<pre style=\"white-space:pre;overflow-x:auto;line-height:normal;font-family:Menlo,'DejaVu Sans Mono',consolas,'Courier New',monospace\"><span style=\"font-weight: bold\"> Trainable params: </span><span style=\"color: #00af00; text-decoration-color: #00af00\">4,833,254</span> (18.44 MB)\n",
       "</pre>\n"
      ],
      "text/plain": [
       "\u001b[1m Trainable params: \u001b[0m\u001b[38;5;34m4,833,254\u001b[0m (18.44 MB)\n"
      ]
     },
     "metadata": {},
     "output_type": "display_data"
    },
    {
     "data": {
      "text/html": [
       "<pre style=\"white-space:pre;overflow-x:auto;line-height:normal;font-family:Menlo,'DejaVu Sans Mono',consolas,'Courier New',monospace\"><span style=\"font-weight: bold\"> Non-trainable params: </span><span style=\"color: #00af00; text-decoration-color: #00af00\">0</span> (0.00 B)\n",
       "</pre>\n"
      ],
      "text/plain": [
       "\u001b[1m Non-trainable params: \u001b[0m\u001b[38;5;34m0\u001b[0m (0.00 B)\n"
      ]
     },
     "metadata": {},
     "output_type": "display_data"
    }
   ],
   "source": [
    "# Build the CNN model\n",
    "model = Sequential([\n",
    "    Input(shape=(150, 150, 3)),  # Input layer\n",
    "    Conv2D(32, (3, 3), activation='relu'),\n",
    "    MaxPooling2D(pool_size=(2, 2)),\n",
    "    Conv2D(64, (3, 3), activation='relu'),\n",
    "    MaxPooling2D(pool_size=(2, 2)),\n",
    "    Conv2D(128, (3, 3), activation='relu'),\n",
    "    MaxPooling2D(pool_size=(2, 2)),\n",
    "    Flatten(),\n",
    "    Dense(128, activation='relu'),\n",
    "    Dropout(0.5),  # Regularization to reduce overfitting\n",
    "    Dense(len(train_generator.class_indices), activation='softmax')  # Output layer\n",
    "])\n",
    "\n",
    "# Compile the model\n",
    "model.compile(\n",
    "    optimizer=Adam(),\n",
    "    loss='categorical_crossentropy',\n",
    "    metrics=['accuracy']\n",
    ")\n",
    "\n",
    "# Display model summary\n",
    "model.summary()\n",
    "\n"
   ]
  },
  {
   "cell_type": "code",
   "execution_count": 5,
   "id": "6f3af488-4c63-4098-85ea-59809dace432",
   "metadata": {},
   "outputs": [
    {
     "name": "stdout",
     "output_type": "stream",
     "text": [
      "Epoch 1/10\n",
      "\u001b[1m566/566\u001b[0m \u001b[32m━━━━━━━━━━━━━━━━━━━━\u001b[0m\u001b[37m\u001b[0m \u001b[1m0s\u001b[0m 305ms/step - accuracy: 0.2435 - loss: 2.9562\n",
      "Epoch 1/10 completed.\n",
      "Time per epoch: 228.11 seconds.\n",
      "Estimated time remaining: 2052.96 seconds.\n",
      "\n",
      "\u001b[1m566/566\u001b[0m \u001b[32m━━━━━━━━━━━━━━━━━━━━\u001b[0m\u001b[37m\u001b[0m \u001b[1m228s\u001b[0m 399ms/step - accuracy: 0.2436 - loss: 2.9555 - val_accuracy: 0.5528 - val_loss: 1.6884\n",
      "Epoch 2/10\n",
      "\u001b[1m566/566\u001b[0m \u001b[32m━━━━━━━━━━━━━━━━━━━━\u001b[0m\u001b[37m\u001b[0m \u001b[1m0s\u001b[0m 303ms/step - accuracy: 0.4997 - loss: 1.7978\n",
      "Epoch 2/10 completed.\n",
      "Time per epoch: 198.52 seconds.\n",
      "Estimated time remaining: 1588.20 seconds.\n",
      "\n",
      "\u001b[1m566/566\u001b[0m \u001b[32m━━━━━━━━━━━━━━━━━━━━\u001b[0m\u001b[37m\u001b[0m \u001b[1m199s\u001b[0m 351ms/step - accuracy: 0.4998 - loss: 1.7976 - val_accuracy: 0.6831 - val_loss: 1.1189\n",
      "Epoch 3/10\n",
      "\u001b[1m566/566\u001b[0m \u001b[32m━━━━━━━━━━━━━━━━━━━━\u001b[0m\u001b[37m\u001b[0m \u001b[1m0s\u001b[0m 302ms/step - accuracy: 0.5819 - loss: 1.4189\n",
      "Epoch 3/10 completed.\n",
      "Time per epoch: 197.05 seconds.\n",
      "Estimated time remaining: 1379.33 seconds.\n",
      "\n",
      "\u001b[1m566/566\u001b[0m \u001b[32m━━━━━━━━━━━━━━━━━━━━\u001b[0m\u001b[37m\u001b[0m \u001b[1m197s\u001b[0m 348ms/step - accuracy: 0.5819 - loss: 1.4189 - val_accuracy: 0.7319 - val_loss: 0.9241\n",
      "Epoch 4/10\n",
      "\u001b[1m566/566\u001b[0m \u001b[32m━━━━━━━━━━━━━━━━━━━━\u001b[0m\u001b[37m\u001b[0m \u001b[1m0s\u001b[0m 299ms/step - accuracy: 0.6188 - loss: 1.3014\n",
      "Epoch 4/10 completed.\n",
      "Time per epoch: 195.20 seconds.\n",
      "Estimated time remaining: 1171.19 seconds.\n",
      "\n",
      "\u001b[1m566/566\u001b[0m \u001b[32m━━━━━━━━━━━━━━━━━━━━\u001b[0m\u001b[37m\u001b[0m \u001b[1m195s\u001b[0m 345ms/step - accuracy: 0.6189 - loss: 1.3013 - val_accuracy: 0.7452 - val_loss: 0.8953\n",
      "Epoch 5/10\n",
      "\u001b[1m566/566\u001b[0m \u001b[32m━━━━━━━━━━━━━━━━━━━━\u001b[0m\u001b[37m\u001b[0m \u001b[1m0s\u001b[0m 306ms/step - accuracy: 0.6496 - loss: 1.1675\n",
      "Epoch 5/10 completed.\n",
      "Time per epoch: 199.12 seconds.\n",
      "Estimated time remaining: 995.62 seconds.\n",
      "\n",
      "\u001b[1m566/566\u001b[0m \u001b[32m━━━━━━━━━━━━━━━━━━━━\u001b[0m\u001b[37m\u001b[0m \u001b[1m199s\u001b[0m 352ms/step - accuracy: 0.6496 - loss: 1.1674 - val_accuracy: 0.7847 - val_loss: 0.7160\n",
      "Epoch 6/10\n",
      "\u001b[1m566/566\u001b[0m \u001b[32m━━━━━━━━━━━━━━━━━━━━\u001b[0m\u001b[37m\u001b[0m \u001b[1m0s\u001b[0m 304ms/step - accuracy: 0.6783 - loss: 1.0491\n",
      "Epoch 6/10 completed.\n",
      "Time per epoch: 197.05 seconds.\n",
      "Estimated time remaining: 788.19 seconds.\n",
      "\n",
      "\u001b[1m566/566\u001b[0m \u001b[32m━━━━━━━━━━━━━━━━━━━━\u001b[0m\u001b[37m\u001b[0m \u001b[1m197s\u001b[0m 348ms/step - accuracy: 0.6783 - loss: 1.0491 - val_accuracy: 0.7911 - val_loss: 0.6605\n",
      "Epoch 7/10\n",
      "\u001b[1m566/566\u001b[0m \u001b[32m━━━━━━━━━━━━━━━━━━━━\u001b[0m\u001b[37m\u001b[0m \u001b[1m0s\u001b[0m 273ms/step - accuracy: 0.7079 - loss: 0.9447\n",
      "Epoch 7/10 completed.\n",
      "Time per epoch: 174.47 seconds.\n",
      "Estimated time remaining: 523.42 seconds.\n",
      "\n",
      "\u001b[1m566/566\u001b[0m \u001b[32m━━━━━━━━━━━━━━━━━━━━\u001b[0m\u001b[37m\u001b[0m \u001b[1m174s\u001b[0m 308ms/step - accuracy: 0.7079 - loss: 0.9447 - val_accuracy: 0.8184 - val_loss: 0.6048\n",
      "Epoch 8/10\n",
      "\u001b[1m566/566\u001b[0m \u001b[32m━━━━━━━━━━━━━━━━━━━━\u001b[0m\u001b[37m\u001b[0m \u001b[1m0s\u001b[0m 259ms/step - accuracy: 0.7197 - loss: 0.9004\n",
      "Epoch 8/10 completed.\n",
      "Time per epoch: 165.95 seconds.\n",
      "Estimated time remaining: 331.90 seconds.\n",
      "\n",
      "\u001b[1m566/566\u001b[0m \u001b[32m━━━━━━━━━━━━━━━━━━━━\u001b[0m\u001b[37m\u001b[0m \u001b[1m166s\u001b[0m 293ms/step - accuracy: 0.7197 - loss: 0.9004 - val_accuracy: 0.8124 - val_loss: 0.6376\n",
      "Epoch 9/10\n",
      "\u001b[1m566/566\u001b[0m \u001b[32m━━━━━━━━━━━━━━━━━━━━\u001b[0m\u001b[37m\u001b[0m \u001b[1m0s\u001b[0m 257ms/step - accuracy: 0.7353 - loss: 0.8532\n",
      "Epoch 9/10 completed.\n",
      "Time per epoch: 165.31 seconds.\n",
      "Estimated time remaining: 165.31 seconds.\n",
      "\n",
      "\u001b[1m566/566\u001b[0m \u001b[32m━━━━━━━━━━━━━━━━━━━━\u001b[0m\u001b[37m\u001b[0m \u001b[1m165s\u001b[0m 292ms/step - accuracy: 0.7353 - loss: 0.8532 - val_accuracy: 0.8317 - val_loss: 0.5475\n",
      "Epoch 10/10\n",
      "\u001b[1m566/566\u001b[0m \u001b[32m━━━━━━━━━━━━━━━━━━━━\u001b[0m\u001b[37m\u001b[0m \u001b[1m0s\u001b[0m 255ms/step - accuracy: 0.7467 - loss: 0.8174\n",
      "Epoch 10/10 completed.\n",
      "Time per epoch: 164.17 seconds.\n",
      "Estimated time remaining: 0.00 seconds.\n",
      "\n",
      "\u001b[1m566/566\u001b[0m \u001b[32m━━━━━━━━━━━━━━━━━━━━\u001b[0m\u001b[37m\u001b[0m \u001b[1m164s\u001b[0m 290ms/step - accuracy: 0.7467 - loss: 0.8173 - val_accuracy: 0.8439 - val_loss: 0.5082\n"
     ]
    }
   ],
   "source": [
    "import time\n",
    "from tensorflow.keras.callbacks import Callback\n",
    "\n",
    "# Define a custom callback to display remaining time\n",
    "class TimeRemainingCallback(Callback):\n",
    "    def on_train_begin(self, logs=None):\n",
    "        self.train_start_time = time.time()  # Record the training start time\n",
    "\n",
    "    def on_epoch_begin(self, epoch, logs=None):\n",
    "        if epoch == 0:\n",
    "            self.epoch_start_time = time.time()  # Record the first epoch start time\n",
    "\n",
    "    def on_epoch_end(self, epoch, logs=None):\n",
    "        current_time = time.time()\n",
    "        time_per_epoch = current_time - self.epoch_start_time\n",
    "        remaining_epochs = self.params['epochs'] - (epoch + 1)\n",
    "        estimated_time_remaining = time_per_epoch * remaining_epochs\n",
    "        \n",
    "        print(f\"\\nEpoch {epoch + 1}/{self.params['epochs']} completed.\")\n",
    "        print(f\"Time per epoch: {time_per_epoch:.2f} seconds.\")\n",
    "        print(f\"Estimated time remaining: {estimated_time_remaining:.2f} seconds.\\n\")\n",
    "\n",
    "        # Update epoch start time for the next epoch\n",
    "        self.epoch_start_time = current_time\n",
    "\n",
    "# Instantiate the custom callback\n",
    "time_remaining_callback = TimeRemainingCallback()\n",
    "\n",
    "# Train the model with the custom callback\n",
    "history = model.fit(\n",
    "    train_generator,\n",
    "    epochs=10,  # Adjust epochs for better results\n",
    "    validation_data=validation_generator,  # Use validation data for evaluation\n",
    "    callbacks=[time_remaining_callback]  # Add the custom callback\n",
    ")\n"
   ]
  },
  {
   "cell_type": "code",
   "execution_count": 7,
   "id": "e9189a4d-423b-4954-b7bb-330df80498e3",
   "metadata": {},
   "outputs": [
    {
     "name": "stdout",
     "output_type": "stream",
     "text": [
      "\u001b[1m141/141\u001b[0m \u001b[32m━━━━━━━━━━━━━━━━━━━━\u001b[0m\u001b[37m\u001b[0m \u001b[1m22s\u001b[0m 153ms/step - accuracy: 0.8441 - loss: 0.5109\n",
      "Validation Accuracy: 84.12%\n"
     ]
    },
    {
     "data": {
      "image/png": "[encoded data removed]",
      "text/plain": [
       "<Figure size 800x600 with 1 Axes>"
      ]
     },
     "metadata": {},
     "output_type": "display_data"
    }
   ],
   "source": [
    "# Evaluate the model on validation data\n",
    "val_loss, val_accuracy = model.evaluate(validation_generator)\n",
    "print(f\"Validation Accuracy: {val_accuracy * 100:.2f}%\")\n",
    "\n",
    "# Plot training vs. validation accuracy\n",
    "plt.figure(figsize=(8, 6))\n",
    "plt.plot(history.history['accuracy'], label='Training Accuracy')\n",
    "plt.plot(history.history['val_accuracy'], label='Validation Accuracy')\n",
    "plt.title('Training vs Validation Accuracy')\n",
    "plt.xlabel('Epochs')\n",
    "plt.ylabel('Accuracy')\n",
    "plt.legend()\n",
    "plt.show()\n",
    "...."
   ]
  },
  {
   "cell_type": "code",
   "execution_count": 19,
   "id": "d0b30870-5c94-47ce-9ab3-3344ee2be1f3",
   "metadata": {},
   "outputs": [
    {
     "name": "stdout",
     "output_type": "stream",
     "text": [
      "\u001b[1m1/1\u001b[0m \u001b[32m━━━━━━━━━━━━━━━━━━━━\u001b[0m\u001b[37m\u001b[0m \u001b[1m0s\u001b[0m 39ms/step\n",
      "The predicted class is: Tomato___Late_blight\n"
     ]
    }
   ],
   "source": [
    "import numpy as np\n",
    "from tensorflow.keras.preprocessing import image\n",
    "import tensorflow as tf\n",
    "\n",
    "# Load the trained model\n",
    "# Assuming the model is already loaded and trained, and it's named 'model'\n",
    "# If not, you can load the model using model = tf.keras.models.load_model('model_path')\n",
    "\n",
    "# Load and preprocess an image for prediction\n",
    "img_path = r\"C:\\Users\\HP\\Downloads\\images.jpg\"  # Replace with the actual path to your test image\n",
    "\n",
    "# Resize the image to match model input size (assuming the model expects 150x150 size)\n",
    "img = image.load_img(img_path, target_size=(150, 150))  # Resize to model input size\n",
    "img_array = image.img_to_array(img) / 255.0  # Convert image to array and normalize pixel values\n",
    "img_array = np.expand_dims(img_array, axis=0)  # Add batch dimension for prediction\n",
    "\n",
    "# Predict the disease class\n",
    "predictions = model.predict(img_array)\n",
    "predicted_class_index = np.argmax(predictions, axis=1)[0]  # Get the index of the class with the highest probability\n",
    "\n",
    "# Map the predicted index to class labels\n",
    "class_names = list(train_generator.class_indices.keys())  # Get the class labels from the training data generator\n",
    "predicted_class = class_names[predicted_class_index]  # Get the predicted class name\n",
    "print(f\"The predicted class is: {predicted_class}\")\n",
    "\n"
   ]
  },
  {
   "cell_type": "code",
   "execution_count": 12,
   "id": "35eb64e8-63b8-44d1-a152-461fb4fbc1e6",
   "metadata": {},
   "outputs": [
    {
     "name": "stdout",
     "output_type": "stream",
     "text": [
      "                                                    precision    recall  f1-score   support\n",
      "\n",
      "                                Apple___Apple_scab       0.00      0.00      0.00        55\n",
      "                                 Apple___Black_rot       0.00      0.00      0.00        49\n",
      "                          Apple___Cedar_apple_rust       0.00      0.00      0.00        28\n",
      "                                   Apple___healthy       0.03      0.03      0.03       156\n",
      "                               Blueberry___healthy       0.02      0.02      0.02       134\n",
      "          Cherry_(including_sour)___Powdery_mildew       0.03      0.03      0.03        90\n",
      "                 Cherry_(including_sour)___healthy       0.00      0.00      0.00        77\n",
      "Corn_(maize)___Cercospora_leaf_spot Gray_leaf_spot       0.00      0.00      0.00        44\n",
      "                       Corn_(maize)___Common_rust_       0.01      0.01      0.01       101\n",
      "               Corn_(maize)___Northern_Leaf_Blight       0.00      0.00      0.00        76\n",
      "                            Corn_(maize)___healthy       0.04      0.04      0.04       114\n",
      "                                 Grape___Black_rot       0.01      0.01      0.01        94\n",
      "                      Grape___Esca_(Black_Measles)       0.03      0.03      0.03        91\n",
      "        Grape___Leaf_blight_(Isariopsis_Leaf_Spot)       0.04      0.04      0.04        75\n",
      "                                   Grape___healthy       0.00      0.00      0.00        19\n",
      "          Orange___Haunglongbing_(Citrus_greening)       0.10      0.10      0.10       434\n",
      "                            Peach___Bacterial_spot       0.06      0.05      0.05       130\n",
      "                                   Peach___healthy       0.00      0.00      0.00        33\n",
      "                     Pepper,_bell___Bacterial_spot       0.04      0.05      0.04        98\n",
      "                            Pepper,_bell___healthy       0.04      0.07      0.05       127\n",
      "                             Potato___Early_blight       0.01      0.02      0.01        51\n",
      "                              Potato___Late_blight       0.06      0.03      0.04        75\n",
      "                                  Potato___healthy       0.00      0.00      0.00        13\n",
      "                               Raspberry___healthy       0.00      0.00      0.00        40\n",
      "                                 Soybean___healthy       0.08      0.07      0.08       434\n",
      "                           Squash___Powdery_mildew       0.03      0.03      0.03       165\n",
      "                          Strawberry___Leaf_scorch       0.05      0.04      0.05        75\n",
      "                              Strawberry___healthy       0.00      0.00      0.00        19\n",
      "                           Tomato___Bacterial_spot       0.01      0.01      0.01        91\n",
      "                             Tomato___Early_blight       0.09      0.02      0.03        52\n",
      "                              Tomato___Late_blight       0.01      0.01      0.01       144\n",
      "                                Tomato___Leaf_Mold       0.00      0.00      0.00        39\n",
      "                       Tomato___Septoria_leaf_spot       0.03      0.04      0.04       178\n",
      "     Tomato___Spider_mites Two-spotted_spider_mite       0.02      0.03      0.02       147\n",
      "                              Tomato___Target_Spot       0.04      0.04      0.04       117\n",
      "            Tomato___Tomato_Yellow_Leaf_Curl_Virus       0.12      0.12      0.12       538\n",
      "                      Tomato___Tomato_mosaic_virus       0.00      0.00      0.00        21\n",
      "                                  Tomato___healthy       0.07      0.08      0.08       286\n",
      "\n",
      "                                          accuracy                           0.05      4510\n",
      "                                         macro avg       0.03      0.03      0.03      4510\n",
      "                                      weighted avg       0.05      0.05      0.05      4510\n",
      "\n"
     ]
    }
   ],
   "source": [
    "from sklearn.metrics import classification_report\n",
    "\n",
    "# Get the classification report with zero_division set to handle undefined precision\n",
    "report = classification_report(validation_labels, validation_predicted_classes, \n",
    "                               target_names=validation_generator.class_indices.keys(), zero_division=0)\n",
    "\n",
    "# Print the report\n",
    "print(report)\n"
   ]
  },
  {
   "cell_type": "code",
   "execution_count": 15,
   "id": "40205eed-91e6-4bf0-b5d6-f882f69daa23",
   "metadata": {},
   "outputs": [
    {
     "name": "stderr",
     "output_type": "stream",
     "text": [
      "WARNING:absl:You are saving your model as an HDF5 file via `model.save()` or `keras.saving.save_model(model)`. This file format is considered legacy. We recommend using instead the native Keras format, e.g. `model.save('my_model.keras')` or `keras.saving.save_model(model, 'my_model.keras')`. \n"
     ]
    },
    {
     "name": "stdout",
     "output_type": "stream",
     "text": [
      "Model saved as plant_disease_cnn_model.h5\n"
     ]
    }
   ],
   "source": [
    "# Save the trained model for future use\n",
    "model.save('plant_disease_cnn_model.h5')\n",
    "print(\"Model saved as plant_disease_cnn_model.h5\")\n"
   ]
  },
  {
   "cell_type": "code",
   "execution_count": null,
   "id": "14d1d070-35aa-4b9c-b303-c7f0dc1b2215",
   "metadata": {},
   "outputs": [],
   "source": []
  }
 ],
 "metadata": {
  "kernelspec": {
   "display_name": "Python 3 (ipykernel)",
   "language": "python",
   "name": "python3"
  },
  "language_info": {
   "codemirror_mode": {
    "name": "ipython",
    "version": 3
   },
   "file_extension": ".py",
   "mimetype": "text/x-python",
   "name": "python",
   "nbconvert_exporter": "python",
   "pygments_lexer": "ipython3",
   "version": "3.11.0"
  }
 },
 "nbformat": 4,
 "nbformat_minor": 5
}
